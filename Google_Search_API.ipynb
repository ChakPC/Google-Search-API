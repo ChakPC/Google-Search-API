{
  "nbformat": 4,
  "nbformat_minor": 0,
  "metadata": {
    "colab": {
      "name": "Google Search API.ipynb",
      "provenance": [],
      "authorship_tag": "ABX9TyMpptEUrxxyThmU5w/GN5p2",
      "include_colab_link": true
    },
    "kernelspec": {
      "name": "python3",
      "display_name": "Python 3"
    },
    "language_info": {
      "name": "python"
    }
  },
  "cells": [
    {
      "cell_type": "markdown",
      "metadata": {
        "id": "view-in-github",
        "colab_type": "text"
      },
      "source": [
        "<a href=\"https://colab.research.google.com/github/ChakPC/Google-Search-API/blob/main/Google_Search_API.ipynb\" target=\"_parent\"><img src=\"https://colab.research.google.com/assets/colab-badge.svg\" alt=\"Open In Colab\"/></a>"
      ]
    },
    {
      "cell_type": "markdown",
      "source": [
        "## Import library"
      ],
      "metadata": {
        "id": "VQe5lYjkx1J8"
      }
    },
    {
      "cell_type": "code",
      "source": [
        "!pip install google-search-results\n",
        "from serpapi import GoogleSearch"
      ],
      "metadata": {
        "colab": {
          "base_uri": "https://localhost:8080/"
        },
        "id": "KMUEjj4iv7Q7",
        "outputId": "a0048b3c-7d6d-4b61-e819-e71d15f901a2"
      },
      "execution_count": null,
      "outputs": [
        {
          "output_type": "stream",
          "name": "stdout",
          "text": [
            "Looking in indexes: https://pypi.org/simple, https://us-python.pkg.dev/colab-wheels/public/simple/\n",
            "Collecting google-search-results\n",
            "  Downloading google_search_results-2.4.1.tar.gz (11 kB)\n",
            "Requirement already satisfied: requests in /usr/local/lib/python3.7/dist-packages (from google-search-results) (2.23.0)\n",
            "Requirement already satisfied: certifi>=2017.4.17 in /usr/local/lib/python3.7/dist-packages (from requests->google-search-results) (2022.5.18.1)\n",
            "Requirement already satisfied: urllib3!=1.25.0,!=1.25.1,<1.26,>=1.21.1 in /usr/local/lib/python3.7/dist-packages (from requests->google-search-results) (1.24.3)\n",
            "Requirement already satisfied: chardet<4,>=3.0.2 in /usr/local/lib/python3.7/dist-packages (from requests->google-search-results) (3.0.4)\n",
            "Requirement already satisfied: idna<3,>=2.5 in /usr/local/lib/python3.7/dist-packages (from requests->google-search-results) (2.10)\n",
            "Building wheels for collected packages: google-search-results\n",
            "  Building wheel for google-search-results (setup.py) ... \u001b[?25l\u001b[?25hdone\n",
            "  Created wheel for google-search-results: filename=google_search_results-2.4.1-py3-none-any.whl size=25789 sha256=17fe09db41a70a5d094b8cf4144547800f09cbf4eb20add9a23d3950650bc8d8\n",
            "  Stored in directory: /root/.cache/pip/wheels/82/a3/c5/364155118f298722dff2f79ae4dd7c91e92b433ad36d6f7e0e\n",
            "Successfully built google-search-results\n",
            "Installing collected packages: google-search-results\n",
            "Successfully installed google-search-results-2.4.1\n"
          ]
        }
      ]
    },
    {
      "cell_type": "markdown",
      "source": [
        "## Parameters"
      ],
      "metadata": {
        "id": "z57o1jmGx47x"
      }
    },
    {
      "cell_type": "code",
      "source": [
        "api_key = \"aee9322b6235d76fa7b8a8de81ff5911338e54c47cb07f8eb451d86d5f08dadb\"\n",
        "engine = \"google\"\n",
        "google_domain = \"google.com\"\n",
        "gl = \"us\"\n",
        "hl = \"en\"\n",
        "\n",
        "short_answer_json_attribute = \"answer_box\"\n",
        "short_answer_json_subattributes = [\"answer\", \"snippet\"]\n",
        "\n",
        "long_answer_json_attribute = \"knowledge_graph\"\n",
        "long_answer_json_subattribute = \"description\""
      ],
      "metadata": {
        "id": "aVO2pUr2v_SR"
      },
      "execution_count": null,
      "outputs": []
    },
    {
      "cell_type": "markdown",
      "source": [
        "## Functions"
      ],
      "metadata": {
        "id": "yDn_0giYyyRB"
      }
    },
    {
      "cell_type": "code",
      "source": [
        "# Fetch results from SerpAPI\n",
        "def fetch_api_results(question):\n",
        "    params = {\n",
        "        \"api_key\": api_key,\n",
        "        \"engine\": engine,\n",
        "        \"q\": question,\n",
        "        \"gl\": gl,\n",
        "        \"hl\": hl\n",
        "    }\n",
        "\n",
        "    search = GoogleSearch(params)\n",
        "    results = search.get_dict()\n",
        "    return results\n",
        "\n",
        "# Extract relevant information from API results\n",
        "def reply_to_query(question):\n",
        "    reply_dict = fetch_api_results(question)\n",
        "\n",
        "    short_answer = \"\"\n",
        "    long_answer = \"\"\n",
        "\n",
        "    if short_answer_json_attribute in reply_dict:\n",
        "        for subattribute in short_answer_json_subattributes:\n",
        "            if subattribute in reply_dict[short_answer_json_attribute]:\n",
        "                short_answer = reply_dict[short_answer_json_attribute][subattribute]\n",
        "    if long_answer_json_attribute in reply_dict:\n",
        "        long_answer = reply_dict[long_answer_json_attribute][long_answer_json_subattribute]\n",
        "    \n",
        "    answer = {\n",
        "        \"short_answer\": short_answer,\n",
        "        \"long_answer\": long_answer \n",
        "    }\n",
        "    return answer"
      ],
      "metadata": {
        "id": "rvCzhBqUwc5B"
      },
      "execution_count": null,
      "outputs": []
    },
    {
      "cell_type": "code",
      "source": [
        "question = \"What is the capacity of a deeponet?\"\n",
        "\n",
        "answer = reply_to_query(question)\n",
        "short_answer = answer[\"short_answer\"]\n",
        "long_answer = answer[\"long_answer\"]\n",
        "\n",
        "if len(short_answer) > 0:\n",
        "    print(short_answer)\n",
        "if len(long_answer) > 0:\n",
        "    print(long_answer)"
      ],
      "metadata": {
        "colab": {
          "base_uri": "https://localhost:8080/"
        },
        "id": "xqDNhWcgvw-4",
        "outputId": "d8b42ab3-dbd0-425a-8212-55a4b313330e"
      },
      "execution_count": null,
      "outputs": [
        {
          "output_type": "stream",
          "name": "stdout",
          "text": [
            "https://serpapi.com/search\n"
          ]
        }
      ]
    }
  ]
}